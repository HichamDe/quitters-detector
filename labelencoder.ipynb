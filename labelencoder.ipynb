{
 "cells": [
  {
   "cell_type": "code",
   "execution_count": 5,
   "metadata": {},
   "outputs": [
    {
     "name": "stdout",
     "output_type": "stream",
     "text": [
      "     Education  Education_Encoded\n",
      "0       Master                  2\n",
      "1          PhD                  3\n",
      "2     Bachelor                  0\n",
      "3  High School                  1\n"
     ]
    }
   ],
   "source": [
    "from sklearn.preprocessing import LabelEncoder\n",
    "import pandas as pd\n",
    "\n",
    "# Sample ordinal data\n",
    "data = {'Education': [ 'Master',  'PhD','Bachelor','High School']}\n",
    "df = pd.DataFrame(data)\n",
    "\n",
    "# Label Encoding for Ordinal Data\n",
    "le = LabelEncoder()\n",
    "df['Education_Encoded'] = le.fit_transform(df['Education'])\n",
    "print(df)"
   ]
  }
 ],
 "metadata": {
  "kernelspec": {
   "display_name": "Python 3",
   "language": "python",
   "name": "python3"
  },
  "language_info": {
   "codemirror_mode": {
    "name": "ipython",
    "version": 3
   },
   "file_extension": ".py",
   "mimetype": "text/x-python",
   "name": "python",
   "nbconvert_exporter": "python",
   "pygments_lexer": "ipython3",
   "version": "3.13.1"
  }
 },
 "nbformat": 4,
 "nbformat_minor": 2
}
